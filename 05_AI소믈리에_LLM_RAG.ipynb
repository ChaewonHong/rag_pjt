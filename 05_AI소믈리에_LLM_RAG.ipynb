{
 "cells": [
  {
   "cell_type": "markdown",
   "metadata": {
    "vscode": {
     "languageId": "plaintext"
    }
   },
   "source": [
    "# RAG로 AI 소믈리에 - wine pairing"
   ]
  },
  {
   "cell_type": "code",
   "execution_count": 1,
   "metadata": {},
   "outputs": [
    {
     "data": {
      "text/plain": [
       "True"
      ]
     },
     "execution_count": 1,
     "metadata": {},
     "output_type": "execute_result"
    }
   ],
   "source": [
    "from dotenv import load_dotenv\n",
    "import os\n",
    "\n",
    "load_dotenv()"
   ]
  },
  {
   "cell_type": "code",
   "execution_count": 2,
   "metadata": {},
   "outputs": [],
   "source": [
    "from langchain_core.prompts import ChatPromptTemplate, HumanMessagePromptTemplate\n",
    "from langchain_core.output_parsers import StrOutputParser, JsonOutputParser\n",
    "from langchain_openai import ChatOpenAI"
   ]
  },
  {
   "cell_type": "markdown",
   "metadata": {},
   "source": [
    "## LLM을 통한 요리 이미지 -> 맛 & 풍미 (image to text)"
   ]
  },
  {
   "cell_type": "code",
   "execution_count": 6,
   "metadata": {},
   "outputs": [],
   "source": [
    "# image에서 맛(풍미)에 대한 설명 text 생성\n",
    "def describe_dish_flavor(query):\n",
    "    # pass\n",
    "    prompt = ChatPromptTemplate.from_messages([\n",
    "        (\"system\", \"\"\"\n",
    "            Persona: You are a highly skilled and perceptive culinary expert with a deep understanding of flavors, aromas, and textures in a wide variety of cuisines. Your personality is professional, insightful, and approachable, dedicated to helping users understand and appreciate the complexities of taste in their food experiences. You are passionate about exploring subtle nuances in ingredients and dishes, making flavor analysis accessible and engaging.\n",
    "\n",
    "            Role: Your role is to guide users in understanding and analyzing the taste, aroma, texture, and overall flavor profile of various foods. You provide detailed descriptions of flavors and offer insights into how different ingredients, cooking techniques, and seasonings influence the dish's final taste. You also help users make informed choices about ingredient combinations and cooking methods to achieve desired flavors in their culinary creations.\n",
    "            Examples:\n",
    "            Flavor Profile Analysis: If a user describes a dish with grilled lamb seasoned with rosemary and garlic, you might explain how the earthy, woody notes of rosemary enhance the rich, savory flavor of the lamb. You could also describe how the caramelization from grilling adds a layer of smokiness, balanced by the mild sweetness of roasted garlic.\n",
    "            Texture and Mouthfeel Explanation: If a user is tasting a creamy mushroom risotto, you might highlight the importance of the dish’s creamy, velvety texture achieved through the slow release of starch from Arborio rice. You could also mention how the umami-rich flavor of mushrooms adds depth to the dish, while the cheese provides a slight saltiness that balances the creaminess.\n",
    "            Pairing Suggestions: If a user is preparing a spicy Thai green curry, you could recommend balancing its heat with a slightly sweet or acidic side, such as a cucumber salad or coconut rice. You might explain how the coolness of cucumber contrasts with the curry’s heat, and how the subtle sweetness in coconut rice tempers the dish’s spiciness, creating a harmonious dining experience.\n",
    "         \"\"\"),\n",
    "        (\"human\", \"\"\"\n",
    "            이미지의 요리명과 풍미를 한 문장으로 요약해 주세요.\n",
    "        \"\"\")\n",
    "    ])\n",
    "\n",
    "    # image url list\n",
    "    template = []\n",
    "\n",
    "    if query.get(\"images_urls\"):\n",
    "        template += [{\"image_url\":image_url} for image_url in query[\"image_urls\"]]\n",
    "\n",
    "    prompt += HumanMessagePromptTemplate.from_template(template)\n",
    "\n",
    "    llm = ChatOpenAI(model=\"gpt-4o\", temperature=0, max_tokens=4095)\n",
    "\n",
    "    chain = prompt | llm | StrOutputParser()\n",
    "\n",
    "    return chain"
   ]
  },
  {
   "cell_type": "code",
   "execution_count": 7,
   "metadata": {},
   "outputs": [],
   "source": [
    "from langchain_core.runnables import RunnableLambda\n",
    "\n",
    "r1 = RunnableLambda(describe_dish_flavor)"
   ]
  },
  {
   "cell_type": "code",
   "execution_count": 8,
   "metadata": {},
   "outputs": [
    {
     "name": "stdout",
     "output_type": "stream",
     "text": [
      "이미지를 제공해 주시면 요리명과 풍미를 분석하여 요약해 드리겠습니다. 이미지가 없으시다면, 요리에 대한 설명을 주시면 그에 맞춰 풍미를 분석해 드릴 수 있습니다.\n"
     ]
    }
   ],
   "source": [
    "url = 'https://sitem.ssgcdn.com/95/55/96/item/1000346965595_i1_750.jpg'\n",
    "res = r1.invoke({\n",
    "    \"image_urls\":[url]\n",
    "})\n",
    "\n",
    "print(res)"
   ]
  },
  {
   "cell_type": "markdown",
   "metadata": {},
   "source": [
    "## 사용자 프롬프트 vector화, 유사도 높은 top=5 찾기"
   ]
  },
  {
   "cell_type": "code",
   "execution_count": 9,
   "metadata": {},
   "outputs": [
    {
     "data": {
      "text/plain": [
       "[Document(id='dbb45957-40df-490a-b7ab-985c5fcbd120', metadata={'row': 20494.0, 'source': './wine_reviews/winemag-data-130k-v2.csv'}, page_content=': 20494\\ncountry: US\\ndescription: This lightly sweet wine has an intense oaky, peppery, smoky aroma and the flavors come out the same way. The beefy, liquid-smoke character should match ribs in barbecue sauce.\\ndesignation: Sultry\\npoints: 85\\nprice: 12.0\\nprovince: California\\nregion_1: California\\nregion_2: California Other\\ntaster_name: Jim Gordon\\ntaster_twitter_handle: @gordone_cellars\\ntitle: Hey Mambo 2013 Sultry Red (California)\\nvariety: Red Blend\\nwinery: Hey Mambo'),\n",
       " Document(id='f4356985-1b31-4b2d-8848-5771f2bcc118', metadata={'row': 10514.0, 'source': './wine_reviews/winemag-data-130k-v2.csv'}, page_content=': 10514\\ncountry: US\\ndescription: Very strongly flavored, and needs a salty cut of meat to tame its powers. Explodes with jammy blackberries, blueberries, cherries and raspberries, with a monster blast of black pepper. Bring on the sausages.\\ndesignation: Ex Anima\\npoints: 88\\nprice: 25.0\\nprovince: California\\nregion_1: Monterey\\nregion_2: Central Coast\\ntaster_name: \\ntaster_twitter_handle: \\ntitle: Wrath 2010 Ex Anima Syrah (Monterey)\\nvariety: Syrah\\nwinery: Wrath'),\n",
       " Document(id='e3170987-5fa3-4975-8932-8882a05428c6', metadata={'row': 9832.0, 'source': './wine_reviews/winemag-data-130k-v2.csv'}, page_content=': 9832\\ncountry: US\\ndescription: Plenty of deep color, thick tannin and dark streaks of smoke and tar make this a stand-up steakhouse wine. The fruit does have an herbal edge but it is lingering, complex and interesting. Think of it as the vinous equivalent of a cello-viola sonata—dark and mysteriously intertwined.\\ndesignation: O.M.O.\\npoints: 89\\nprice: 30.0\\nprovince: Washington\\nregion_1: Columbia Valley (WA)\\nregion_2: Columbia Valley\\ntaster_name: Paul Gregutt\\ntaster_twitter_handle: @paulgwine\\ntitle: Woodinville Wine Cellars 2004 O.M.O. Red (Columbia Valley (WA))\\nvariety: Red Blend\\nwinery: Woodinville Wine Cellars'),\n",
       " Document(id='426dfaa9-1233-4359-a74b-2a527fa0c516', metadata={'row': 12018.0, 'source': './wine_reviews/winemag-data-130k-v2.csv'}, page_content=\": 12018\\ncountry: US\\ndescription: Here's a crisp Chardonnay that gets those tastebuds whistling with tartness. Yet it's balanced out by extremely rich fruit and oak. Pineapple crème brûlée, white peach, green apple butter, vanilla and toasty sandalwood are the flavors of this delicious, complex Chardonnay. Drink now.\\ndesignation: Ryo-fu\\npoints: 92\\nprice: 44.0\\nprovince: California\\nregion_1: Russian River Valley\\nregion_2: Sonoma\\ntaster_name: \\ntaster_twitter_handle: \\ntitle: Freeman 2007 Ryo-fu Chardonnay (Russian River Valley)\\nvariety: Chardonnay\\nwinery: Freeman\"),\n",
       " Document(id='f4d60d64-ae62-483f-8a41-3f62792c9dfa', metadata={'row': 37937.0, 'source': './wine_reviews/winemag-data-130k-v2.csv'}, page_content=\": 37937\\ncountry: France\\ndescription: This is very smoky, with flavors of bacon as well as a yeasty character. The fruit has migrated into a taut texture, spiced with parsley and bay leaf. It's mature yet still zesty.\\ndesignation: Grand Fumé\\npoints: 91\\nprice: 32.0\\nprovince: Loire Valley\\nregion_1: Pouilly-Fumé\\nregion_2: \\ntaster_name: Roger Voss\\ntaster_twitter_handle: @vossroger\\ntitle: Fournier Père et Fils 2007 Grand Fumé  (Pouilly-Fumé)\\nvariety: Sauvignon Blanc\\nwinery: Fournier Père et Fils\")]"
      ]
     },
     "execution_count": 9,
     "metadata": {},
     "output_type": "execute_result"
    }
   ],
   "source": [
    "from langchain_openai import OpenAIEmbeddings\n",
    "from langchain_pinecone import PineconeVectorStore\n",
    "import os\n",
    "\n",
    "embedding = OpenAIEmbeddings(model=os.getenv(\"OPENAI_EMBEDDING_MODEL\"))\n",
    "vector_store = PineconeVectorStore(\n",
    "    index_name=os.getenv(\"PINECONE_INDEX_NAME\"),\n",
    "    embedding=embedding,\n",
    "    namespace=os.getenv(\"PINECONE_NAMESPACE\")\n",
    ")\n",
    "\n",
    "query = \"이 요리는 삼겹살과 김치로, 고소하고 육즙이 풍부한 삼겹살의 풍미가 매콤하고 새콤한 김치와 어우러져 조화로운 맛을 냅니다.\"\n",
    "vector_store.similarity_search(query, namespace=os.getenv(\"PINECONE_NAMESPACE\"), k=5)"
   ]
  },
  {
   "cell_type": "code",
   "execution_count": 10,
   "metadata": {},
   "outputs": [],
   "source": [
    "def search_wines(dish_flavor):\n",
    "    embedding=OpenAIEmbeddings(model=os.getenv(\"OPENAI_EMBEDDING_MODEL\"))\n",
    "    vector_store = PineconeVectorStore(\n",
    "        index_name=os.getenv(\"PINECONE_INDEX_NAME\"),\n",
    "        embedding=embedding,\n",
    "        namespace=os.getenv(\"PINECONE_NAMESPACE\")\n",
    "    )\n",
    "\n",
    "    results = vector_store.similarity_search(dish_flavor, namespace=os.getenv(\"PINECONE_NAMESPACE\"), k=5)\n",
    "\n",
    "    return {\n",
    "        \"dish_flavor\":dish_flavor,\n",
    "        \"wine_reviews\": \"\\n\".join([doc.page_content for doc in results])\n",
    "    }"
   ]
  },
  {
   "cell_type": "markdown",
   "metadata": {},
   "source": [
    "## RunnableLambda로 실행"
   ]
  },
  {
   "cell_type": "code",
   "execution_count": 11,
   "metadata": {},
   "outputs": [
    {
     "name": "stdout",
     "output_type": "stream",
     "text": [
      "이 요리는 삼겹살과 김치로, 고소하고 육즙이 풍부한 삼겹살의 풍미가 매콤하고 새콤한 김치와 어우러져 조화로운 맛을 냅니다.\n",
      ": 20494\n",
      "country: US\n",
      "description: This lightly sweet wine has an intense oaky, peppery, smoky aroma and the flavors come out the same way. The beefy, liquid-smoke character should match ribs in barbecue sauce.\n",
      "designation: Sultry\n",
      "points: 85\n",
      "price: 12.0\n",
      "province: California\n",
      "region_1: California\n",
      "region_2: California Other\n",
      "taster_name: Jim Gordon\n",
      "taster_twitter_handle: @gordone_cellars\n",
      "title: Hey Mambo 2013 Sultry Red (California)\n",
      "variety: Red Blend\n",
      "winery: Hey Mambo\n",
      ": 10514\n",
      "country: US\n",
      "description: Very strongly flavored, and needs a salty cut of meat to tame its powers. Explodes with jammy blackberries, blueberries, cherries and raspberries, with a monster blast of black pepper. Bring on the sausages.\n",
      "designation: Ex Anima\n",
      "points: 88\n",
      "price: 25.0\n",
      "province: California\n",
      "region_1: Monterey\n",
      "region_2: Central Coast\n",
      "taster_name: \n",
      "taster_twitter_handle: \n",
      "title: Wrath 2010 Ex Anima Syrah (Monterey)\n",
      "variety: Syrah\n",
      "winery: Wrath\n",
      ": 9832\n",
      "country: US\n",
      "description: Plenty of deep color, thick tannin and dark streaks of smoke and tar make this a stand-up steakhouse wine. The fruit does have an herbal edge but it is lingering, complex and interesting. Think of it as the vinous equivalent of a cello-viola sonata—dark and mysteriously intertwined.\n",
      "designation: O.M.O.\n",
      "points: 89\n",
      "price: 30.0\n",
      "province: Washington\n",
      "region_1: Columbia Valley (WA)\n",
      "region_2: Columbia Valley\n",
      "taster_name: Paul Gregutt\n",
      "taster_twitter_handle: @paulgwine\n",
      "title: Woodinville Wine Cellars 2004 O.M.O. Red (Columbia Valley (WA))\n",
      "variety: Red Blend\n",
      "winery: Woodinville Wine Cellars\n",
      ": 12018\n",
      "country: US\n",
      "description: Here's a crisp Chardonnay that gets those tastebuds whistling with tartness. Yet it's balanced out by extremely rich fruit and oak. Pineapple crème brûlée, white peach, green apple butter, vanilla and toasty sandalwood are the flavors of this delicious, complex Chardonnay. Drink now.\n",
      "designation: Ryo-fu\n",
      "points: 92\n",
      "price: 44.0\n",
      "province: California\n",
      "region_1: Russian River Valley\n",
      "region_2: Sonoma\n",
      "taster_name: \n",
      "taster_twitter_handle: \n",
      "title: Freeman 2007 Ryo-fu Chardonnay (Russian River Valley)\n",
      "variety: Chardonnay\n",
      "winery: Freeman\n",
      ": 37937\n",
      "country: France\n",
      "description: This is very smoky, with flavors of bacon as well as a yeasty character. The fruit has migrated into a taut texture, spiced with parsley and bay leaf. It's mature yet still zesty.\n",
      "designation: Grand Fumé\n",
      "points: 91\n",
      "price: 32.0\n",
      "province: Loire Valley\n",
      "region_1: Pouilly-Fumé\n",
      "region_2: \n",
      "taster_name: Roger Voss\n",
      "taster_twitter_handle: @vossroger\n",
      "title: Fournier Père et Fils 2007 Grand Fumé  (Pouilly-Fumé)\n",
      "variety: Sauvignon Blanc\n",
      "winery: Fournier Père et Fils\n"
     ]
    }
   ],
   "source": [
    "r2 = RunnableLambda(search_wines)\n",
    "query = \"이 요리는 삼겹살과 김치로, 고소하고 육즙이 풍부한 삼겹살의 풍미가 매콤하고 새콤한 김치와 어우러져 조화로운 맛을 냅니다.\"\n",
    "res = r2.invoke(query)\n",
    "print(res.get(\"dish_flavor\"))\n",
    "print(res.get(\"wine_reviews\"))"
   ]
  },
  {
   "cell_type": "markdown",
   "metadata": {},
   "source": [
    "## r1, r2로 구성"
   ]
  },
  {
   "cell_type": "code",
   "execution_count": 12,
   "metadata": {},
   "outputs": [],
   "source": [
    "image_url = 'https://sitem.ssgcdn.com/95/55/96/item/1000346965595_i1_750.jpg'\n",
    "chain = r1 | r2\n",
    "res = chain.invoke({\n",
    "    \"image_urls\":[image_url]\n",
    "})"
   ]
  },
  {
   "cell_type": "code",
   "execution_count": 13,
   "metadata": {},
   "outputs": [
    {
     "name": "stdout",
     "output_type": "stream",
     "text": [
      "이미지를 볼 수 없지만, 요리의 이름과 풍미를 설명해 주시면 그에 대한 분석을 도와드릴 수 있습니다. 요리의 주요 재료나 조리법을 알려주시면, 그에 따른 맛과 향, 질감에 대해 설명해 드리겠습니다.\n",
      ": 37787\n",
      "country: US\n",
      "description: Luscious in candied, pastry-filling raspberries and cherries, with dustings of cocoa, cinnamon and vanilla, and a sweet veneer of smoky sandalwood. Could be somewhat crisper and better structured, but a delicious Pinot for drinking now.\n",
      "designation: Meiomi\n",
      "points: 87\n",
      "price: 25.0\n",
      "province: California\n",
      "region_1: Sonoma County-Monterey County-Santa Barbara County\n",
      "region_2: California Other\n",
      "taster_name: \n",
      "taster_twitter_handle: \n",
      "title: Belle Glos 2008 Meiomi Pinot Noir (Sonoma County-Monterey County-Santa Barbara County)\n",
      "variety: Pinot Noir\n",
      "winery: Belle Glos\n",
      ": 37405\n",
      "country: US\n",
      "description: Tea leaf, cherry and sweet vermouth aromas precede lightly tart cherry, rhubarb and herb flavors in this lean, moderately tannic and un-oaky wine. It's appealing and appetizing in an austere way, giving just enough satisfaction.\n",
      "designation: Moonglow\n",
      "points: 88\n",
      "price: 35.0\n",
      "province: California\n",
      "region_1: Anderson Valley\n",
      "region_2: \n",
      "taster_name: Jim Gordon\n",
      "taster_twitter_handle: @gordone_cellars\n",
      "title: Lichen Estate 2015 Moonglow Pinot Noir (Anderson Valley)\n",
      "variety: Pinot Noir\n",
      "winery: Lichen Estate\n",
      ": 35156\n",
      "country: US\n",
      "description: A pretty good Pinot Noir, elegantly silky as it should be, with flavors of tart cherries, cola, red licorice and sandalwood. It's a bit too soft and sweet, but easy to drink.\n",
      "designation: Meiomi\n",
      "points: 86\n",
      "price: 22.0\n",
      "province: California\n",
      "region_1: Monterey-Santa Barbara-Sonoma\n",
      "region_2: California Other\n",
      "taster_name: \n",
      "taster_twitter_handle: \n",
      "title: Belle Glos 2010 Meiomi Pinot Noir (Monterey-Santa Barbara-Sonoma)\n",
      "variety: Pinot Noir\n",
      "winery: Belle Glos\n",
      ": 32591\n",
      "country: US\n",
      "description: Flavorful and sweet but not cloying, it displays plenty of floral and apricot aromas, ripe honeylike flavors and a rich finish. Will pair nicely with cheese and salted nuts as an apéritif, or with biscotti for dessert.\n",
      "designation: \n",
      "points: 87\n",
      "price: 16.0\n",
      "province: California\n",
      "region_1: Yolo County\n",
      "region_2: Central Valley\n",
      "taster_name: Jim Gordon\n",
      "taster_twitter_handle: @gordone_cellars\n",
      "title: Rosa d'Oro 2012 Muscat (Yolo County)\n",
      "variety: Muscat\n",
      "winery: Rosa d'Oro\n",
      ": 37815\n",
      "country: US\n",
      "description: Fresh, clean and rather soft in balance, this shows easy-to-like aromas of pear and apple, slightly sweet flavors of honey and pear juice, and an almost syrupy, soft mouthfeel. It's agreeable and sweet.\n",
      "designation: Jam's Blend\n",
      "points: 84\n",
      "price: 12.0\n",
      "province: California\n",
      "region_1: Lodi\n",
      "region_2: Central Valley\n",
      "taster_name: Jim Gordon\n",
      "taster_twitter_handle: @gordone_cellars\n",
      "title: Tortoise Creek 2013 Jam's Blend Chardonnay (Lodi)\n",
      "variety: Chardonnay\n",
      "winery: Tortoise Creek\n"
     ]
    }
   ],
   "source": [
    "print(res.get(\"dish_flavor\"))\n",
    "print(res.get(\"wine_reviews\"))"
   ]
  },
  {
   "cell_type": "markdown",
   "metadata": {},
   "source": [
    "## 와인 추천"
   ]
  },
  {
   "cell_type": "code",
   "execution_count": 14,
   "metadata": {},
   "outputs": [],
   "source": [
    "def recommend_wines(query):\n",
    "    prompt = ChatPromptTemplate.from_messages([\n",
    "           (\"system\", \"\"\"\n",
    "            Persona: You are a refined and approachable virtual wine sommelier with a deep passion for wines, dedicated to helping users explore and enjoy the world of wine with confidence. Your personality is warm, insightful, and patient, ensuring that users feel at ease while learning about wine, regardless of their experience level.\n",
    "            Role: Your role is to guide users in selecting wines, pairing them with food, and understanding wine characteristics. You are adept at explaining complex wine concepts such as tannins, acidity, and terroir in a way that is accessible to everyone. In addition, you provide suggestions based on the user’s preferences, budget, and the occasion, helping them find the perfect wine to enhance their dining experience.\n",
    "            Examples:\n",
    "            Wine Pairing Recommendation: If a user is preparing a buttery garlic shrimp dish, you might suggest a crisp, mineral-driven Chablis or a New Zealand Sauvignon Blanc, explaining how these wines’ acidity and minerality balance the richness of the butter and complement the flavors of the shrimp.\n",
    "            Wine Selection for a Casual Gathering: If a user is hosting a casual gathering and needs an affordable, crowd-pleasing wine, you might recommend a fruit-forward Pinot Noir or a light Italian Pinot Grigio. Highlight the wines' versatility and how they pair well with a variety of foods, making them ideal for social settings.\n",
    "            Wine Terminology Explanation: If a user asks what “terroir” means, you would explain it as the unique combination of soil, climate, and landscape in a wine-growing region that influences the wine's flavor, making each wine distinctive to its origin.\n",
    "            \"\"\"\n",
    "         ),\n",
    "        (\"human\", \"\"\"\n",
    "            와인 페어링 추천에 아래의 요리와 풍미, 와인 리뷰만을 참고하여 한글로 답변해 주세요.\n",
    "\n",
    "            요리와 풍미:\n",
    "            {dish_flavor}\n",
    "         \n",
    "            와인 리뷰:\n",
    "            {wine_reviews}\n",
    "         \n",
    "            답변은 다음과 같은 값으로 json 데이터로 리턴해주세요.\n",
    "            recommend_wine :\n",
    "            recommend_reason :\n",
    "        \"\"\")     \n",
    "    ])\n",
    "\n",
    "    llm = ChatOpenAI(model=\"gpt-4o\", temperature=0, max_tokens=4095)\n",
    "    chain = prompt | llm | JsonOutputParser()\n",
    "\n",
    "    return chain"
   ]
  },
  {
   "cell_type": "code",
   "execution_count": 15,
   "metadata": {},
   "outputs": [],
   "source": [
    "r1 = RunnableLambda(describe_dish_flavor)\n",
    "r2 = RunnableLambda(search_wines)\n",
    "r3 = RunnableLambda(recommend_wines)\n",
    "\n",
    "chain = r1 | r2 | r3\n",
    "img_urls = ['https://sitem.ssgcdn.com/95/55/96/item/1000346965595_i1_750.jpg']\n",
    "res = chain.invoke({\n",
    "    \"image_urls\":img_urls\n",
    "})"
   ]
  },
  {
   "cell_type": "code",
   "execution_count": 16,
   "metadata": {},
   "outputs": [
    {
     "name": "stdout",
     "output_type": "stream",
     "text": [
      "{'recommend_wine': 'Belle Glos 2008 Meiomi Pinot Noir', 'recommend_reason': '이 와인은 캔디드 라즈베리와 체리, 코코아, 시나몬, 바닐라의 풍미가 조화를 이루며, 스모키한 샌들우드의 달콤한 베니어가 더해져 있습니다. 이러한 풍미는 다양한 요리와 잘 어울리며, 특히 풍부한 소스나 향신료가 가미된 요리와 잘 맞습니다. 또한, 지금 마시기에 적합한 맛을 가지고 있어, 즉시 즐기기에 좋은 선택입니다.'}\n"
     ]
    }
   ],
   "source": [
    "print(res)"
   ]
  },
  {
   "cell_type": "code",
   "execution_count": null,
   "metadata": {},
   "outputs": [],
   "source": []
  }
 ],
 "metadata": {
  "kernelspec": {
   "display_name": "langchain_rag_env",
   "language": "python",
   "name": "python3"
  },
  "language_info": {
   "codemirror_mode": {
    "name": "ipython",
    "version": 3
   },
   "file_extension": ".py",
   "mimetype": "text/x-python",
   "name": "python",
   "nbconvert_exporter": "python",
   "pygments_lexer": "ipython3",
   "version": "3.12.7"
  }
 },
 "nbformat": 4,
 "nbformat_minor": 2
}
